{
 "cells": [
  {
   "cell_type": "code",
   "execution_count": 14,
   "metadata": {},
   "outputs": [
    {
     "name": "stdout",
     "output_type": "stream",
     "text": [
      "Input your weight in kg(72):70\n",
      "Your height in meter(1.68)1.74\n",
      "Your BMI is:23.120623596247853.\n"
     ]
    }
   ],
   "source": [
    "weight = int(input(\"Input your weight in kg(72):\"))\n",
    "height = float(input(\"Your height in meter(1.68)\"))\n",
    "BMI = weight/height**2\n",
    "print(\"Your BMI is:\" + str(BMI) + \".\")"
   ]
  },
  {
   "cell_type": "code",
   "execution_count": null,
   "metadata": {},
   "outputs": [],
   "source": []
  }
 ],
 "metadata": {
  "kernelspec": {
   "display_name": "Python 3",
   "language": "python",
   "name": "python3"
  },
  "language_info": {
   "codemirror_mode": {
    "name": "ipython",
    "version": 3
   },
   "file_extension": ".py",
   "mimetype": "text/x-python",
   "name": "python",
   "nbconvert_exporter": "python",
   "pygments_lexer": "ipython3",
   "version": "3.6.4"
  }
 },
 "nbformat": 4,
 "nbformat_minor": 2
}
